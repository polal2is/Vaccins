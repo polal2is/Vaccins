{
 "cells": [
  {
   "cell_type": "code",
   "execution_count": 1,
   "metadata": {},
   "outputs": [],
   "source": [
    "# import wget\n",
    "# import os\n",
    "# url = 'https://www.data.gouv.fr/fr/datasets/r/5cb21a85-b0b0-4a65-a249-806a040ec372'\n",
    "# wget.download(url)"
   ]
  },
  {
   "cell_type": "code",
   "execution_count": 1,
   "metadata": {},
   "outputs": [
    {
     "data": {
      "text/html": [
       "<style>.container { width:80% !important; }</style>"
      ],
      "text/plain": [
       "<IPython.core.display.HTML object>"
      ]
     },
     "metadata": {},
     "output_type": "display_data"
    }
   ],
   "source": [
    "from IPython.core.display import display, HTML\n",
    "display(HTML(\"<style>.container { width:80% !important; }</style>\"))\n",
    "\n",
    "import pandas as pd\n",
    "import numpy as np\n",
    "import seaborn as sns\n",
    "\n",
    "cm = sns.light_palette(\"darkblue\", as_cmap = True)\n",
    "\n",
    "import openrouteservice as ors\n",
    "import folium\n",
    "# import folium.colormap as cm\n",
    "from geopy.distance import geodesic\n",
    "from geopy.geocoders import Nominatim\n",
    "from transport_co2 import estimate_co2\n",
    "\n",
    "from ipywidgets import interact, HBox, Label\n",
    "import ipywidgets as widgets\n",
    "\n",
    "# import qgrid\n",
    "# import itables.interactive\n",
    "# from itables import show\n",
    "# from pivottablejs import pivot_ui"
   ]
  },
  {
   "cell_type": "code",
   "execution_count": 3,
   "metadata": {},
   "outputs": [],
   "source": [
    "Token = '5b3ce3597851110001cf6248b653f303668b44b7af74670186d11d23'\n",
    "client = ors.Client(key = Token)\n",
    "geolocator = Nominatim(user_agent = 'Routes')\n",
    "\n",
    "Types =           ['airplane', 'bus', 'car', 'ferry', 'large_car', 'light_rail', 'scooter', 'small_car', 'subway', 'transit', 'walk']\n",
    "Types_Formatted = ['Airplane', 'Bus', 'Car', 'Ferry', 'Large Car', 'Light Rail', 'Scooter', 'Small Car', 'Subway', 'Transit', 'Walk']\n",
    "Types_Dict = dict(zip(Types_Formatted, Types))\n",
    "\n",
    "Modes =           ['cycling-electric', 'cycling-mountain', 'cycling-regular', 'cycling-road', 'driving-car', 'driving-hgv', 'foot-hiking', 'foot-walking']\n",
    "Modes_Formatted = ['Cycling Electric', 'Cycling Mountain', 'Cycling Regular', 'Cycling Road', 'Driving Car', 'Truck',       'Foot Hiking', 'Foot Walking']\n",
    "Modes_Dict = dict(zip(Modes_Formatted, Modes))\n",
    "\n",
    "Product_List = ['Shirt', 'Dress', 'Shoes', 'Bag']"
   ]
  },
  {
   "cell_type": "code",
   "execution_count": 4,
   "metadata": {},
   "outputs": [
    {
     "data": {
      "text/html": [
       "<h3>Votre Localisation:<h3>Latitude: 47.5584 | Longitude : 7.5733"
      ],
      "text/plain": [
       "<IPython.core.display.HTML object>"
      ]
     },
     "metadata": {},
     "output_type": "display_data"
    },
    {
     "data": {
      "text/html": [
       "<h3>Lausanne, Suisse<h3>"
      ],
      "text/plain": [
       "<IPython.core.display.HTML object>"
      ]
     },
     "metadata": {},
     "output_type": "display_data"
    }
   ],
   "source": [
    "import geocoder\n",
    "import pprint\n",
    "g = geocoder.ip('me')\n",
    "display(HTML('<h3>Votre Localisation:<h3>' + 'Latitude: ' + str(g.latlng[0]) + ' | Longitude : ' + str(g.latlng[1])))\n",
    "Your_Location = ors.geocode.pelias_reverse(client, (g.latlng[1], g.latlng[0]), circle_radius=1, size = 1)\n",
    "# display(HTML('<h3>' + Your_Location['features'][0]['properties']['country'] + '<h3>'))\n",
    "display(HTML('<h3>Lausanne, Suisse<h3>'))"
   ]
  },
  {
   "cell_type": "code",
   "execution_count": 5,
   "metadata": {},
   "outputs": [],
   "source": [
    "df_Sellers = pd.read_csv('Data.csv', sep = ';')\n",
    "# df_Sellers.columns\n",
    "\n",
    "# display(HTML('<h3>Vaccination Center Data: <h3>'))\n",
    "# df_Sellers.sample(5).style.background_gradient(cmap = cm)"
   ]
  },
  {
   "cell_type": "code",
   "execution_count": 25,
   "metadata": {},
   "outputs": [],
   "source": [
    "def Get_Coordinates(Adress):\n",
    "    location = geolocator.geocode(Adress)\n",
    "    return [location.latitude, location.longitude]\n",
    "\n",
    "def Get_Closest_Sellers(Adress, N_Closest_Sellers, City):\n",
    "    # Mask_City = df_Sellers[\"com_nom\"] == City\n",
    "    Mask_City = df_Sellers[\"com_nom\"].str.contains(City)    \n",
    "#     Random_Index = np.random.choice(len(df_Sellers[Mask_Product]))\n",
    "    df_Sellers_Product = df_Sellers[Mask_City].reset_index(drop = True)\n",
    "    N_Sellers_Product = len(df_Sellers[Mask_City])\n",
    "    Distance = np.zeros(N_Sellers_Product)\n",
    "    for ii in range(N_Sellers_Product):\n",
    "        Customer_Coordinates = Get_Coordinates(Adress)\n",
    "\n",
    "        Distance[ii] = geodesic((Customer_Coordinates[0], Customer_Coordinates[1]), (df_Sellers_Product.iloc[ii]['lat_coor1'], df_Sellers_Product.iloc[ii]['long_coor1'])).km\n",
    "        \n",
    "    Distance_Index = np.argsort(Distance)[:N_Closest_Sellers]\n",
    "    Distance = np.sort(Distance)[:N_Closest_Sellers]\n",
    "    \n",
    "    df_Closest_Sellers = df_Sellers_Product.iloc[Distance_Index].copy()\n",
    "    df_Closest_Sellers['Distance (km)'] = np.round(Distance, 1)\n",
    "    \n",
    "    return df_Closest_Sellers"
   ]
  },
  {
   "cell_type": "code",
   "execution_count": 26,
   "metadata": {},
   "outputs": [],
   "source": [
    "Widget_Origin = widgets.Text(\n",
    "    # value = '11 rue Savaron',\n",
    "    placeholder = '<Adresse>',\n",
    "    description = '<b>Adresse:<b>',\n",
    "    disabled = False,\n",
    "    continuous_update = False)\n",
    "\n",
    "Widget_City = widgets.Combobox(\n",
    "    # value = 'Clermont-Ferrand',\n",
    "    placeholder = '<Ville>',\n",
    "    description = '<b>Ville:<b>',\n",
    "    options = df_Sellers['com_nom'].unique().tolist(),\n",
    "    ensure_option = True,\n",
    "    disabled = False,\n",
    "    continuous_update = False)\n",
    "\n",
    "Modes =           ['cycling-electric', 'cycling-mountain', 'cycling-regular', 'cycling-road', 'driving-car', 'driving-hgv', 'foot-hiking', 'foot-walking']\n",
    "Modes_Formatted = ['Cycling Electric', 'Cycling Mountain', 'Cycling Regular', 'Cycling Road', 'Driving Car', 'Truck',       'Foot Hiking', 'Foot Walking']\n",
    "Modes_Dict = dict(zip(Modes_Formatted, Modes))\n",
    "\n",
    "Widget_Mode = widgets.Dropdown(\n",
    "    options = Modes_Formatted,\n",
    "    value = 'Driving Car',\n",
    "    description = '<b>Mode:<b>',\n",
    "    continuous_update = False)"
   ]
  },
  {
   "cell_type": "code",
   "execution_count": 29,
   "metadata": {
    "scrolled": false
   },
   "outputs": [
    {
     "data": {
      "application/vnd.jupyter.widget-view+json": {
       "model_id": "777167fca8d243c8a3c43fe68070a9fb",
       "version_major": 2,
       "version_minor": 0
      },
      "text/plain": [
       "interactive(children=(Combobox(value='Clermont-Ferrand', continuous_update=False, description='<b>Ville:<b>', …"
      ]
     },
     "metadata": {},
     "output_type": "display_data"
    }
   ],
   "source": [
    "@interact\n",
    "def Plot_Route(City = Widget_City, Origin_Adress = Widget_Origin, Mode = Widget_Mode):\n",
    "    \n",
    "    if Origin_Adress != '' and City != '':\n",
    "    \n",
    "        N_Closest_Sellers = 5\n",
    "        Colors = ['darkgreen', 'orange', 'darkred', 'red', 'black']\n",
    "        df_Closest_Sellers = Get_Closest_Sellers(Origin_Adress, N_Closest_Sellers, City)\n",
    "\n",
    "        Sellers_List = df_Closest_Sellers[['nom', 'com_nom', 'Distance (km)']]\n",
    "        Sellers_List.columns = ['Nom', 'Commune', 'Distance (km)']\n",
    "        Sellers_List.index = range(1, len(Sellers_List) + 1)\n",
    "\n",
    "        # for ii in range(N_Closest_Sellers):\n",
    "            # Sellers_List.at[ii, 'Color'] = Colors[ii]\n",
    "\n",
    "        display(HTML('<h3>Centres de Vaccination Recommandés:<h3>'))\n",
    "        display(Sellers_List.style.background_gradient(cmap = cm))\n",
    "\n",
    "        Origin = Get_Coordinates(Origin_Adress + ' ' + City)\n",
    "        Center = [Origin[0], Origin[1]]\n",
    "        m = folium.Map(location = Center, tiles = 'cartodbdark_matter', zoom_start = 13, width='65%', height='65%')\n",
    "        # m = folium.Map(location = Center, zoom_start = 8)\n",
    "\n",
    "        N_Closest_Sellers = np.min([N_Closest_Sellers, len(Sellers_List)])\n",
    "\n",
    "        for ii in range(N_Closest_Sellers):\n",
    "            Destination = [df_Closest_Sellers.iloc[ii]['lat_coor1'], df_Closest_Sellers.iloc[ii]['long_coor1']]\n",
    "\n",
    "            # Warning Reversed Coordinates Here\n",
    "            Coordinates = ((Origin[1], Origin[0]), (Destination[1], Destination[0]))\n",
    "\n",
    "            route = client.directions(coordinates = Coordinates, format = 'geojson')#, profile = Mode, format = 'geojson', optimize_waypoints = True)\n",
    "\n",
    "            Distance = route['features'][0]['properties']['segments'][0]['distance']\n",
    "            Duration = route['features'][0]['properties']['segments'][0]['duration']\n",
    "            # Distance = route['routes'][0]['summary']['distance']\n",
    "            # Duration = route['routes'][0]['summary']['duration']\n",
    "\n",
    "            # Emission = estimate_co2(mode = Type, distance_in_km = np.round(Distance/1000, 1))\n",
    "\n",
    "            folium.PolyLine(locations = [list(reversed(coord)) for coord in route['features'][0]['geometry']['coordinates']], color = Colors[ii], opacity = 0.75).add_to(m)\n",
    "\n",
    "            folium.Marker(location = Origin, icon = folium.features.CustomIcon('Icons/Person.png', icon_size = (48/2, 64/2)), tooltip = '<bold>Votre Localisation ' + '<li>' + Origin_Adress + ' ' + City).add_to(m)\n",
    "            folium.Marker(location = Destination, icon = folium.Icon(color = Colors[ii]), popup = df_Closest_Sellers.iloc[ii]['nom']).add_to(m)\n",
    "\n",
    "            # Icon = folium.features.CustomIcon('Icons/' + Product + '.png', icon_size = (48, 48))\n",
    "            # folium.Marker(location = Destination, icon = Icon, tooltip = '<li><bold>City: ' + df_Closest_Sellers.iloc[ii]['City'] + '<li><bold>Price: $' + str(int(df_Closest_Sellers.iloc[ii]['Price'])) +  '<li><bold>Emission: ' + str(int(np.round(Emission/1000, 1))) + 'kg of CO<sub>2<sub>' +  '<li><bold>Rating: ' + df_Closest_Sellers.iloc[ii]['Rating']).add_to(m)\n",
    "\n",
    "    #     print(df_Closest_Sellers[['Seller_Id','Product','Price','Rating','City', 'Distance (km)', 'Emission (g of CO2)']].reset_index(drop = True))\n",
    "        \n",
    "        return m\n",
    "\n",
    "    else:\n",
    "        pass"
   ]
  },
  {
   "cell_type": "code",
   "execution_count": 9,
   "metadata": {},
   "outputs": [],
   "source": [
    "# !git add --all\n",
    "# !git commit -m \"New Commit\"\n",
    "# !git push"
   ]
  }
 ],
 "metadata": {
  "hide_input": false,
  "kernelspec": {
   "display_name": "Python 3",
   "language": "python",
   "name": "python3"
  },
  "language_info": {
   "codemirror_mode": {
    "name": "ipython",
    "version": 3
   },
   "file_extension": ".py",
   "mimetype": "text/x-python",
   "name": "python",
   "nbconvert_exporter": "python",
   "pygments_lexer": "ipython3",
   "version": "3.9.5"
  },
  "toc": {
   "base_numbering": 1,
   "nav_menu": {},
   "number_sections": true,
   "sideBar": true,
   "skip_h1_title": false,
   "title_cell": "Table of Contents",
   "title_sidebar": "Contents",
   "toc_cell": false,
   "toc_position": {},
   "toc_section_display": true,
   "toc_window_display": false
  },
  "varInspector": {
   "cols": {
    "lenName": 16,
    "lenType": 16,
    "lenVar": 40
   },
   "kernels_config": {
    "python": {
     "delete_cmd_postfix": "",
     "delete_cmd_prefix": "del ",
     "library": "var_list.py",
     "varRefreshCmd": "print(var_dic_list())"
    },
    "r": {
     "delete_cmd_postfix": ") ",
     "delete_cmd_prefix": "rm(",
     "library": "var_list.r",
     "varRefreshCmd": "cat(var_dic_list()) "
    }
   },
   "types_to_exclude": [
    "module",
    "function",
    "builtin_function_or_method",
    "instance",
    "_Feature"
   ],
   "window_display": false
  }
 },
 "nbformat": 4,
 "nbformat_minor": 4
}
